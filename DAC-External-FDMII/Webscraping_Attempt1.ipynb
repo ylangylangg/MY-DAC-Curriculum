{
 "cells": [
  {
   "cell_type": "code",
   "execution_count": 1,
   "metadata": {},
   "outputs": [],
   "source": [
    "import pandas as pd\n",
    "import urllib\n",
    "import urllib.request\n",
    "from bs4 import BeautifulSoup\n",
    "import requests\n",
    "from pprint import pprint #pretty print helps for formatting"
   ]
  },
  {
   "cell_type": "markdown",
   "metadata": {},
   "source": []
  },
  {
   "cell_type": "markdown",
   "metadata": {},
   "source": [
    "(click edit to view)\n",
    "For SEA:\n",
    "\n",
    "User-agent: *\n",
    "Disallow: /wp-admin/\n",
    "Allow: /wp-admin/admin-ajax.php\n",
    "\n",
    "Sitemap: https://sgeduacademy.com/wp-sitemap.xml\n",
    "\n",
    "\n",
    "For Tertiary Infotech:\n",
    "User-agent: *\n",
    "Disallow:\n",
    "\n",
    "Sitemap: https://www.tertiaryinfotech.com/sitemap_index.xml\n",
    "END YOAST BLOCK"
   ]
  },
  {
   "cell_type": "markdown",
   "metadata": {},
   "source": [
    "Scraping HTML ()"
   ]
  },
  {
   "cell_type": "code",
   "execution_count": null,
   "metadata": {},
   "outputs": [],
   "source": []
  }
 ],
 "metadata": {
  "kernelspec": {
   "display_name": ".venv",
   "language": "python",
   "name": "python3"
  },
  "language_info": {
   "codemirror_mode": {
    "name": "ipython",
    "version": 3
   },
   "file_extension": ".py",
   "mimetype": "text/x-python",
   "name": "python",
   "nbconvert_exporter": "python",
   "pygments_lexer": "ipython3",
   "version": "3.12.5"
  }
 },
 "nbformat": 4,
 "nbformat_minor": 2
}
